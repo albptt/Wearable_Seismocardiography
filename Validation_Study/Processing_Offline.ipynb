{
 "cells": [
  {
   "cell_type": "markdown",
   "metadata": {},
   "source": [
    "# Processing:\n",
    "\n",
    "1) Z-axis signal\n",
    "2) Rectification\n",
    "3) Frequency filtering using a fourth-order Butterworth bandpass filter with a cutoff frequency of 18Hz\n",
    "4) Removal of the first 100 noisy samples\n",
    "5) Rectification\n",
    "6) Normalization using z-score\n",
    "7) Threshold definition (80% of the standard deviation of the signal energy)\n",
    "8) Peak detection\n",
    "9) Calculation of heart rate (using the distance between peaks)\n",
    "\n",
    "-\n",
    "\n",
    "1) Segnale asse Z\n",
    "2) Valore assoluto\n",
    "3) Filtraggio in frequenza tramite Butterworth passa banda quarto ordine f_cutoff=18Hz\n",
    "4) Rimozione primi 100 campioni sporchi \n",
    "5) Valore assoluto\n",
    "6) Normalizzazione con z-score\n",
    "7) Definizione threshold (80% della deviazione standard dell'energia del segnale)\n",
    "8) Indiviuazione picchi\n",
    "9) Calcolo heart rate (tramite la distanza fra picchi)"
   ]
  },
  {
   "cell_type": "code",
   "execution_count": null,
   "metadata": {},
   "outputs": [],
   "source": [
    "import numpy as np\n",
    "import math\n",
    "import matplotlib.pyplot as plt\n",
    "import pandas as pd\n",
    "import heartpy as hp\n",
    "\n",
    "from scipy.signal import savgol_filter\n",
    "from scipy.signal import butter, lfilter\n",
    "from scipy.signal import find_peaks\n",
    "from scipy.stats import zscore"
   ]
  },
  {
   "cell_type": "code",
   "execution_count": null,
   "metadata": {},
   "outputs": [],
   "source": [
    "# Leggi il file excel e suddividi i campioni dei tre assi in 3 vettori\n",
    "file_path = r'' # file path 1m-50Hz-seduto-67bpm.xlsx \n",
    "df = pd.read_excel(file_path)\n",
    "df.columns = ['acc_x', 'acc_y', 'acc_z']\n",
    "acc_x = np.array(df['acc_x'])\n",
    "acc_y = np.array(df['acc_y'])\n",
    "acc_z = np.array(df['acc_z'])"
   ]
  },
  {
   "cell_type": "code",
   "execution_count": null,
   "metadata": {},
   "outputs": [],
   "source": [
    "# Stampa i primi valori delle tre colonne\n",
    "print(\"acc_x:\", df['acc_x'].tolist())\n",
    "print(\"acc_y:\", df['acc_y'].tolist())\n",
    "print(\"acc_z:\", df['acc_z'].tolist())"
   ]
  },
  {
   "cell_type": "code",
   "execution_count": null,
   "metadata": {},
   "outputs": [],
   "source": [
    "# Segnale asse Z\n",
    "accelerometer_data_raw = acc_z[2000:3500]\n",
    "plt.plot(accelerometer_data_raw )"
   ]
  },
  {
   "cell_type": "code",
   "execution_count": null,
   "metadata": {},
   "outputs": [],
   "source": [
    "# Valore assoluto\n",
    "accelerometer_data_raw = np.abs(accelerometer_data_raw)\n",
    "plt.plot(accelerometer_data_raw)"
   ]
  },
  {
   "cell_type": "code",
   "execution_count": null,
   "metadata": {},
   "outputs": [],
   "source": [
    "# Filtraggio in frequenza tramite Butterworth passa banda quarto ordine f_cutoff=18Hz\n",
    "filter_order=4\n",
    "normalized_cutoff_frequency=18/50\n",
    "b, a = butter(filter_order, normalized_cutoff_frequency, btype='high', analog=False, output='ba')\n",
    "signal_high = lfilter(b, a, accelerometer_data_raw)"
   ]
  },
  {
   "cell_type": "code",
   "execution_count": null,
   "metadata": {},
   "outputs": [],
   "source": [
    "# Rimozione primi 100 campioni sporchi \n",
    "signal_high=signal_high[100:]\n",
    "plt.plot(signal_high)"
   ]
  },
  {
   "cell_type": "code",
   "execution_count": null,
   "metadata": {},
   "outputs": [],
   "source": [
    "# Normalizzazione con z-score\n",
    "signal_high = zscore(signal_high)"
   ]
  },
  {
   "cell_type": "code",
   "execution_count": null,
   "metadata": {},
   "outputs": [],
   "source": [
    "# Definizione threshold (80% della deviazione standard dell'energia del segnale)\n",
    "signal_high = abs(signal_high)\n",
    "threshold =(np.std(np.square(signal_high)))*0.8\n",
    "print(threshold)"
   ]
  },
  {
   "cell_type": "code",
   "execution_count": null,
   "metadata": {},
   "outputs": [],
   "source": [
    "# Individuazione picchi\n",
    "peaks_filtered, _ = find_peaks(signal_high, height=threshold, distance=25) \n",
    "print(peaks_filtered)"
   ]
  },
  {
   "cell_type": "code",
   "execution_count": null,
   "metadata": {},
   "outputs": [],
   "source": [
    "# Plot segnale con picchi evidenziati\n",
    "plt.plot(signal_high, label='Final Filtered Signal')\n",
    "plt.plot(peaks_filtered, signal_high[peaks_filtered], 'ro', label='detected peaks')\n",
    "\n",
    "plt.xlabel('Time')\n",
    "plt.ylabel('Amplitude')\n",
    "plt.title('Final Filtered signal with identified peaks')\n",
    "plt.legend()\n",
    "plt.grid(True)\n",
    "plt.show()"
   ]
  },
  {
   "cell_type": "code",
   "execution_count": null,
   "metadata": {},
   "outputs": [],
   "source": [
    "# Determina HR partendo dalla distanza fra picchi ...\n",
    "interval_filtered = np.diff(peaks_filtered) / 50\n",
    "print(interval_filtered)\n",
    "HR_interval = 60 / np.mean(interval_filtered)\n",
    "print(HR_interval)"
   ]
  }
 ],
 "metadata": {
  "kernelspec": {
   "display_name": "pyqt5_venv",
   "language": "python",
   "name": "python3"
  },
  "language_info": {
   "codemirror_mode": {
    "name": "ipython",
    "version": 3
   },
   "file_extension": ".py",
   "mimetype": "text/x-python",
   "name": "python",
   "nbconvert_exporter": "python",
   "pygments_lexer": "ipython3",
   "version": "3.11.8"
  }
 },
 "nbformat": 4,
 "nbformat_minor": 2
}
